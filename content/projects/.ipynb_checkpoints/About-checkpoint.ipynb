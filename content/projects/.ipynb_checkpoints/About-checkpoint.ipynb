{
 "cells": [
  {
   "cell_type": "markdown",
   "metadata": {},
   "source": [
    "As a fellow data enthusiast, I have been thinking of setting up a blog or website to get \n",
    "in touch with the wonderful data science community. Also I envisioned this platform to \n",
    "improve my skills and be relevant with the rapid changes happening in the data field.\n",
    "I will be posting notebooks related to projects that I am working on and articles on newest\n",
    "technologies that I am learning and implementing in the projects. Please provide\n",
    "constructive feedback that could help me overcome any shortcomings. If you find anything\n",
    "useful, please like or share.\n",
    "\n",
    "For living I work as a Technical Solutions Architect at a mining solutions company. \n",
    "I am responsible for information management architecture, data integration, \n",
    "data quality, application integration and performance optimization. I am Passionate about \n",
    "enabling organizations to embrace analytics and foster data driven decision making process \n",
    "by integrating enterprise business application data using industry preferred data-\n",
    "integration tools.\n",
    "\n",
    "I love to play tennis and currently working on a pet project to explore tennis dataset and\n",
    "create an interesting data application from it. Here is the link to the application that\n",
    "I am actively developing [serve-aces](https://serve-aces.herokuapp.com/)"
   ]
  }
 ],
 "metadata": {
  "kernelspec": {
   "display_name": "Python 3",
   "language": "python",
   "name": "python3"
  },
  "language_info": {
   "codemirror_mode": {
    "name": "ipython",
    "version": 3
   },
   "file_extension": ".py",
   "mimetype": "text/x-python",
   "name": "python",
   "nbconvert_exporter": "python",
   "pygments_lexer": "ipython3",
   "version": "3.6.7"
  }
 },
 "nbformat": 4,
 "nbformat_minor": 2
}
